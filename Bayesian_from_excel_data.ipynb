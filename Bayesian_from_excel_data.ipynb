{
 "cells": [
  {
   "cell_type": "code",
   "execution_count": 1,
   "id": "mvAwsTM4Lnrs",
   "metadata": {
    "colab": {
     "base_uri": "https://localhost:8080/"
    },
    "executionInfo": {
     "elapsed": 8312,
     "status": "ok",
     "timestamp": 1737955060049,
     "user": {
      "displayName": "진박사",
      "userId": "05093144047188231988"
     },
     "user_tz": -540
    },
    "id": "mvAwsTM4Lnrs",
    "outputId": "3e4b202e-12ad-48a7-edba-abfd545f8638",
    "tags": []
   },
   "outputs": [
    {
     "data": {
      "text/plain": [
       "'\\nColabl사용시:\\n!pip install botorch gpytorch\\n입력하여 botorch 및 gpytorch 가상머신에 설치\\n'"
      ]
     },
     "execution_count": 1,
     "metadata": {},
     "output_type": "execute_result"
    }
   ],
   "source": [
    "'''\n",
    "Colabl사용시:\n",
    "!pip install botorch gpytorch\n",
    "입력하여 botorch 및 gpytorch 가상머신에 설치\n",
    "'''"
   ]
  },
  {
   "cell_type": "code",
   "execution_count": 75,
   "id": "a9090b9d-d0ef-4974-81ba-c74ea6f34be8",
   "metadata": {
    "colab": {
     "base_uri": "https://localhost:8080/"
    },
    "executionInfo": {
     "elapsed": 2526,
     "status": "ok",
     "timestamp": 1737961301253,
     "user": {
      "displayName": "진박사",
      "userId": "05093144047188231988"
     },
     "user_tz": -540
    },
    "id": "a9090b9d-d0ef-4974-81ba-c74ea6f34be8",
    "outputId": "88de9c16-2ac7-4e03-ae5e-1605af982df6",
    "tags": []
   },
   "outputs": [
    {
     "name": "stdout",
     "output_type": "stream",
     "text": [
      "Drive already mounted at /content/drive; to attempt to forcibly remount, call drive.mount(\"/content/drive\", force_remount=True).\n"
     ]
    }
   ],
   "source": [
    "import torch   #벡터(텐서)의 연산 및 미적분을 지원하는 라이브러리\n",
    "torch.set_default_dtype(torch.float64) #더블 프리시전\n",
    "torch.set_num_threads(2)#병렬 코어 2개까지만. 큰 문제를 사용할 때는 변경해도 무방\n",
    "from botorch.models import SingleTaskGP #가우시안 프로세스 회귀 연산\n",
    "from gpytorch.mlls import ExactMarginalLogLikelihood #내 모델과 데이터의 에러 계산\n",
    "from botorch.fit import fit_gpytorch_mll #내 모델을 학습시키는 기능\n",
    "from botorch.acquisition import LogExpectedImprovement # 기대 개선량 계산\n",
    "from botorch.acquisition import qLogExpectedImprovement # 다중 기대 개선량 계산\n",
    "from botorch.optim import optimize_acqf #기대개선 함수를 극대화하는 점 탐색\n",
    "import matplotlib.pyplot as plt #그래프 가시화\n",
    "\n",
    "import pandas as pd # csv 파일 및 excel 파일 불러오기\n",
    "'''\n",
    "colab 사용시, 아래 커맨드 활성화하여 실행.\n",
    "구글드라이브에 연결하고, 데이터 불러올 파일 위치를 좌측 패널에서 찾아서 경로복사 기능 활용 \n",
    "'''\n",
    "#from google.colab import drive\n",
    "#drive.mount('/content/drive')\n"
   ]
  },
  {
   "cell_type": "code",
   "execution_count": 85,
   "id": "h9eIB6LsUWks",
   "metadata": {
    "colab": {
     "base_uri": "https://localhost:8080/"
    },
    "executionInfo": {
     "elapsed": 10245,
     "status": "ok",
     "timestamp": 1737962899899,
     "user": {
      "displayName": "진박사",
      "userId": "05093144047188231988"
     },
     "user_tz": -540
    },
    "id": "h9eIB6LsUWks",
    "outputId": "b9f6c2c0-d36f-41d3-8310-7d427d1fe529"
   },
   "outputs": [
    {
     "name": "stdout",
     "output_type": "stream",
     "text": [
      "data shape:  (18, 5)\n",
      "data range:  [[-3.   0.   1.   0.5]\n",
      " [ 1.   1.   3.   2. ]]\n"
     ]
    },
    {
     "name": "stderr",
     "output_type": "stream",
     "text": [
      "/usr/local/lib/python3.11/dist-packages/botorch/models/utils/assorted.py:265: InputDataWarning: Data (input features) is not contained to the unit cube. Please consider min-max scaling the input data.\n",
      "  check_min_max_scaling(\n"
     ]
    },
    {
     "name": "stdout",
     "output_type": "stream",
     "text": [
      "tensor([[-0.4412,  0.9865,  1.5046,  1.6486],\n",
      "        [-0.6332,  0.4003,  2.9318,  0.7891],\n",
      "        [-2.9451,  0.0490,  1.6832,  0.6356],\n",
      "        [ 1.0000,  0.0000,  2.1962,  0.5000],\n",
      "        [-2.3103,  0.3711,  2.0185,  1.4226]])\n"
     ]
    }
   ],
   "source": [
    "file_path=\"/content/drive/MyDrive/예제.xlsx\" #파일 경로 설정\n",
    "df = pd.read_excel(file_path, usecols='B:F',skiprows=[0,1,2,3], header=None) #엑셀 파일에서 B-F열 중 첫 4행 무시하고 읽기\n",
    "raw_data=df.values # 읽어온 데이터에서 숫자만 추출\n",
    "df = pd.read_excel(file_path, usecols='B:E',skiprows=[0], nrows=2,header=None) #엑셀 파일에서 B-E열 중 첫 행 무시하고 읽기\n",
    "bounds=df.values # 읽어온 데이터에서 숫자만 추출\n",
    "\n",
    "input_data=raw_data[:,0:4] #입력 데이터 분리\n",
    "score=raw_data[:,4:] #점수 데이터 분리\n",
    "\n",
    "#numpy 데이터 pytorch로 변환\n",
    "input_data=torch.from_numpy(input_data)\n",
    "score=torch.from_numpy(score)\n",
    "bounds=torch.from_numpy(bounds)\n",
    "\n",
    "#입출력 설정\n",
    "X_train=input_data\n",
    "Y_train=score\n",
    "\n",
    "#GP 모델 생성 및 학습\n",
    "model = SingleTaskGP(X_train, Y_train)\n",
    "mll = ExactMarginalLogLikelihood(model.likelihood, model) #\n",
    "fit_gpytorch_mll(mll);\n",
    "\n",
    "\n",
    "#ei = LogExpectedImprovement(model=model, best_f=Y_train.max(), maximize=True) #1조건 추천\n",
    "ei = qLogExpectedImprovement(model=model, best_f=Y_train.max()) #다조건 동시 추천\n",
    "candidate, _ = optimize_acqf(\n",
    "    acq_function=ei,\n",
    "    bounds=bounds,\n",
    "    q=5,                 #5개 조건 동시 추천\n",
    "    num_restarts=5,\n",
    "    raw_samples=20)"
   ]
  },
  {
   "cell_type": "code",
   "execution_count": 86,
   "id": "8wZ7blCan-_b",
   "metadata": {
    "executionInfo": {
     "elapsed": 273,
     "status": "ok",
     "timestamp": 1737962910599,
     "user": {
      "displayName": "진박사",
      "userId": "05093144047188231988"
     },
     "user_tz": -540
    },
    "id": "8wZ7blCan-_b"
   },
   "outputs": [],
   "source": [
    "a_test=torch.linspace(-2.,0.9,30) #다른 변수는 고정하고 A만 -2에서 0.9까지 변화\n",
    "b_test=torch.ones(30)*0.3\n",
    "c_test=torch.ones(30)*2.\n",
    "d_test=torch.ones(30)*1.\n",
    "X_grid=torch.stack((a_test,b_test,c_test,d_test),dim=1) #주어진 조건으로 모델의 예측을 관찰할 그리드 생성\n"
   ]
  },
  {
   "cell_type": "code",
   "execution_count": 87,
   "id": "tyoGo7zSofSD",
   "metadata": {
    "colab": {
     "base_uri": "https://localhost:8080/",
     "height": 544
    },
    "executionInfo": {
     "elapsed": 380,
     "status": "ok",
     "timestamp": 1737962913464,
     "user": {
      "displayName": "진박사",
      "userId": "05093144047188231988"
     },
     "user_tz": -540
    },
    "id": "tyoGo7zSofSD",
    "outputId": "eae26781-267d-4878-d2d5-f26093de536e"
   },
   "outputs": [
    {
     "data": {
      "text/plain": [
       "<matplotlib.collections.FillBetweenPolyCollection at 0x7a443ae94190>"
      ]
     },
     "execution_count": 87,
     "metadata": {},
     "output_type": "execute_result"
    },
    {
     "data": {
      "image/png": "[encoded data removed]",
      "text/plain": [
       "<Figure size 1000x600 with 1 Axes>"
      ]
     },
     "metadata": {},
     "output_type": "display_data"
    }
   ],
   "source": [
    "predictions=model.posterior(X_grid) #X_grid에서의 모델의 출력 생성\n",
    "mean = predictions.mean.detach().numpy() #모델의 예측의 평균값 계산하여 numpy 배열로 변경 (미분 연산 관계식 제거)\n",
    "lower, upper = predictions.mvn.confidence_region() #모델의 예측의 신뢰구간 생성\n",
    "plt.figure(figsize=(10, 6)) #그림 크기 지정\n",
    "plt.plot(a_test.numpy(), mean, label=\"Predicted Mean\", color=\"blue\") #평균값 파란 실선\n",
    "plt.fill_between(\n",
    "    a_test.numpy(),\n",
    "    lower.detach().numpy(),\n",
    "    upper.detach().numpy(),\n",
    "    alpha=0.2,\n",
    "    label=\"95% Confidence Interval\",\n",
    "    color=\"blue\"\n",
    ")  #신뢰구간 색칠\n"
   ]
  }
 ],
 "metadata": {
  "colab": {
   "provenance": []
  },
  "kernelspec": {
   "display_name": "Python 3 (ipykernel)",
   "language": "python",
   "name": "python3"
  },
  "language_info": {
   "codemirror_mode": {
    "name": "ipython",
    "version": 3
   },
   "file_extension": ".py",
   "mimetype": "text/x-python",
   "name": "python",
   "nbconvert_exporter": "python",
   "pygments_lexer": "ipython3",
   "version": "3.11.5"
  }
 },
 "nbformat": 4,
 "nbformat_minor": 5
}
